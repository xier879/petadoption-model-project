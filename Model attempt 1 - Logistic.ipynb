{
 "cells": [
  {
   "cell_type": "markdown",
   "metadata": {},
   "source": [
    "Importing necessary packages and libraries."
   ]
  },
  {
   "cell_type": "code",
   "execution_count": 1,
   "metadata": {},
   "outputs": [],
   "source": [
    "#Working With DataFrames\n",
    "import pandas as pd\n",
    "import numpy as np\n",
    "\n",
    "#Data Visualizations\n",
    "import matplotlib.pyplot as plt\n",
    "%matplotlib inline\n",
    "import seaborn as sns\n",
    "\n",
    "from sklearn.model_selection import train_test_split"
   ]
  },
  {
   "cell_type": "code",
   "execution_count": 2,
   "metadata": {},
   "outputs": [
    {
     "data": {
      "text/html": [
       "<div>\n",
       "<style scoped>\n",
       "    .dataframe tbody tr th:only-of-type {\n",
       "        vertical-align: middle;\n",
       "    }\n",
       "\n",
       "    .dataframe tbody tr th {\n",
       "        vertical-align: top;\n",
       "    }\n",
       "\n",
       "    .dataframe thead th {\n",
       "        text-align: right;\n",
       "    }\n",
       "</style>\n",
       "<table border=\"1\" class=\"dataframe\">\n",
       "  <thead>\n",
       "    <tr style=\"text-align: right;\">\n",
       "      <th></th>\n",
       "      <th>Type</th>\n",
       "      <th>Name</th>\n",
       "      <th>Age</th>\n",
       "      <th>Breed1</th>\n",
       "      <th>Breed2</th>\n",
       "      <th>Gender</th>\n",
       "      <th>Color1</th>\n",
       "      <th>Color2</th>\n",
       "      <th>Color3</th>\n",
       "      <th>MaturitySize</th>\n",
       "      <th>...</th>\n",
       "      <th>Health</th>\n",
       "      <th>Quantity</th>\n",
       "      <th>Fee</th>\n",
       "      <th>State</th>\n",
       "      <th>RescuerID</th>\n",
       "      <th>VideoAmt</th>\n",
       "      <th>Description</th>\n",
       "      <th>PetID</th>\n",
       "      <th>PhotoAmt</th>\n",
       "      <th>AdoptionSpeed</th>\n",
       "    </tr>\n",
       "  </thead>\n",
       "  <tbody>\n",
       "    <tr>\n",
       "      <td>0</td>\n",
       "      <td>2.0</td>\n",
       "      <td>Nibble</td>\n",
       "      <td>3</td>\n",
       "      <td>299</td>\n",
       "      <td>0</td>\n",
       "      <td>1.0</td>\n",
       "      <td>1</td>\n",
       "      <td>7</td>\n",
       "      <td>0</td>\n",
       "      <td>1</td>\n",
       "      <td>...</td>\n",
       "      <td>1</td>\n",
       "      <td>1</td>\n",
       "      <td>100.0</td>\n",
       "      <td>41326</td>\n",
       "      <td>8480853f516546f6cf33aa88cd76c379</td>\n",
       "      <td>0</td>\n",
       "      <td>Nibble is a 3+ month old ball of cuteness. He ...</td>\n",
       "      <td>86e1089a3</td>\n",
       "      <td>1</td>\n",
       "      <td>2</td>\n",
       "    </tr>\n",
       "    <tr>\n",
       "      <td>1</td>\n",
       "      <td>2.0</td>\n",
       "      <td>No Name Yet</td>\n",
       "      <td>1</td>\n",
       "      <td>265</td>\n",
       "      <td>0</td>\n",
       "      <td>1.0</td>\n",
       "      <td>1</td>\n",
       "      <td>2</td>\n",
       "      <td>0</td>\n",
       "      <td>2</td>\n",
       "      <td>...</td>\n",
       "      <td>1</td>\n",
       "      <td>1</td>\n",
       "      <td>0.0</td>\n",
       "      <td>41401</td>\n",
       "      <td>3082c7125d8fb66f7dd4bff4192c8b14</td>\n",
       "      <td>0</td>\n",
       "      <td>I just found it alone yesterday near my apartm...</td>\n",
       "      <td>6296e909a</td>\n",
       "      <td>2</td>\n",
       "      <td>0</td>\n",
       "    </tr>\n",
       "    <tr>\n",
       "      <td>2</td>\n",
       "      <td>1.0</td>\n",
       "      <td>Brisco</td>\n",
       "      <td>1</td>\n",
       "      <td>307</td>\n",
       "      <td>0</td>\n",
       "      <td>1.0</td>\n",
       "      <td>2</td>\n",
       "      <td>7</td>\n",
       "      <td>0</td>\n",
       "      <td>2</td>\n",
       "      <td>...</td>\n",
       "      <td>1</td>\n",
       "      <td>1</td>\n",
       "      <td>0.0</td>\n",
       "      <td>41326</td>\n",
       "      <td>fa90fa5b1ee11c86938398b60abc32cb</td>\n",
       "      <td>0</td>\n",
       "      <td>Their pregnant mother was dumped by her irresp...</td>\n",
       "      <td>3422e4906</td>\n",
       "      <td>7</td>\n",
       "      <td>3</td>\n",
       "    </tr>\n",
       "  </tbody>\n",
       "</table>\n",
       "<p>3 rows × 24 columns</p>\n",
       "</div>"
      ],
      "text/plain": [
       "   Type         Name  Age  Breed1  Breed2  Gender  Color1  Color2  Color3  \\\n",
       "0   2.0       Nibble    3     299       0     1.0       1       7       0   \n",
       "1   2.0  No Name Yet    1     265       0     1.0       1       2       0   \n",
       "2   1.0       Brisco    1     307       0     1.0       2       7       0   \n",
       "\n",
       "   MaturitySize  ...  Health  Quantity    Fee  State  \\\n",
       "0             1  ...       1         1  100.0  41326   \n",
       "1             2  ...       1         1    0.0  41401   \n",
       "2             2  ...       1         1    0.0  41326   \n",
       "\n",
       "                          RescuerID  VideoAmt  \\\n",
       "0  8480853f516546f6cf33aa88cd76c379         0   \n",
       "1  3082c7125d8fb66f7dd4bff4192c8b14         0   \n",
       "2  fa90fa5b1ee11c86938398b60abc32cb         0   \n",
       "\n",
       "                                         Description      PetID PhotoAmt  \\\n",
       "0  Nibble is a 3+ month old ball of cuteness. He ...  86e1089a3        1   \n",
       "1  I just found it alone yesterday near my apartm...  6296e909a        2   \n",
       "2  Their pregnant mother was dumped by her irresp...  3422e4906        7   \n",
       "\n",
       "   AdoptionSpeed  \n",
       "0              2  \n",
       "1              0  \n",
       "2              3  \n",
       "\n",
       "[3 rows x 24 columns]"
      ]
     },
     "execution_count": 2,
     "metadata": {},
     "output_type": "execute_result"
    }
   ],
   "source": [
    "df=pd.read_csv('Resources/data.csv')\n",
    "df.head(3)"
   ]
  },
  {
   "cell_type": "markdown",
   "metadata": {},
   "source": [
    "The following are the data fields corresponding to our project, which we obtained on Kaggle.com:\n",
    "PetID - Unique hash ID of pet profile \n",
    "AdoptionSpeed - Categorical speed of adoption. Lower is faster. This is the value to predict. See below section for more info.\n",
    "\n",
    "Type - Type of animal (1 = Dog, 2 = Cat)\n",
    "Name - Name of pet (Empty if not named)\n",
    "Age - Age of pet when listed, in months\n",
    "Breed1 - Primary breed of pet (Refer to BreedLabels dictionary)\n",
    "Breed2 - Secondary breed of pet, if pet is of mixed breed (Refer to BreedLabels dictionary)\n",
    "Gender - Gender of pet (1 = Male, 2 = Female, 3 = Mixed, if profile represents group of pets)\n",
    "Color1 - Color 1 of pet (Refer to ColorLabels dictionary)\n",
    "Color2 - Color 2 of pet (Refer to ColorLabels dictionary)\n",
    "Color3 - Color 3 of pet (Refer to ColorLabels dictionary)\n",
    "MaturitySize - Size at maturity (1 = Small, 2 = Medium, 3 = Large, 4 = Extra Large, 0 = Not Specified)\n",
    "FurLength - Fur length (1 = Short, 2 = Medium, 3 = Long, 0 = Not Specified)\n",
    "Vaccinated - Pet has been vaccinated (1 = Yes, 2 = No, 3 = Not Sure)\n",
    "Dewormed - Pet has been dewormed (1 = Yes, 2 = No, 3 = Not Sure)\n",
    "Sterilized - Pet has been spayed / neutered (1 = Yes, 2 = No, 3 = Not Sure)\n",
    "Health - Health Condition (1 = Healthy, 2 = Minor Injury, 3 = Serious Injury, 0 = Not Specified)\n",
    "Quantity - Number of pets represented in profile\n",
    "Fee - Adoption fee (0 = Free)\n",
    "State - State location in Malaysia (Refer to StateLabels dictionary)\n",
    "RescuerID - Unique hash ID of rescuer\n",
    "VideoAmt - Total uploaded videos for this pet\n",
    "PhotoAmt - Total uploaded photos for this pet\n",
    "Description - Profile write-up for this pet. The primary language used is English, with some in Malay or Chinese."
   ]
  },
  {
   "cell_type": "markdown",
   "metadata": {},
   "source": [
    "At first glance, we saw a variable PetID, which we believed should have no predictive value. On the other hand, the variable Vaccinated is likely to be predictive (before analyzing the data, we believed that a pet that is vaccinated would be more likely to be adopted than a pet that is not vaccinated)."
   ]
  },
  {
   "cell_type": "code",
   "execution_count": 3,
   "metadata": {},
   "outputs": [
    {
     "data": {
      "text/plain": [
       "(14993, 24)"
      ]
     },
     "execution_count": 3,
     "metadata": {},
     "output_type": "execute_result"
    }
   ],
   "source": [
    "df.shape"
   ]
  },
  {
   "cell_type": "markdown",
   "metadata": {},
   "source": [
    "This means the dataset has 24 columns and 14,993 rows"
   ]
  },
  {
   "cell_type": "code",
   "execution_count": 4,
   "metadata": {},
   "outputs": [
    {
     "data": {
      "text/html": [
       "<div>\n",
       "<style scoped>\n",
       "    .dataframe tbody tr th:only-of-type {\n",
       "        vertical-align: middle;\n",
       "    }\n",
       "\n",
       "    .dataframe tbody tr th {\n",
       "        vertical-align: top;\n",
       "    }\n",
       "\n",
       "    .dataframe thead th {\n",
       "        text-align: right;\n",
       "    }\n",
       "</style>\n",
       "<table border=\"1\" class=\"dataframe\">\n",
       "  <thead>\n",
       "    <tr style=\"text-align: right;\">\n",
       "      <th></th>\n",
       "      <th>Type</th>\n",
       "      <th>Age</th>\n",
       "      <th>Breed1</th>\n",
       "      <th>Breed2</th>\n",
       "      <th>Gender</th>\n",
       "      <th>Color1</th>\n",
       "      <th>Color2</th>\n",
       "      <th>Color3</th>\n",
       "      <th>MaturitySize</th>\n",
       "      <th>FurLength</th>\n",
       "      <th>Vaccinated</th>\n",
       "      <th>Dewormed</th>\n",
       "      <th>Sterilized</th>\n",
       "      <th>Health</th>\n",
       "      <th>Quantity</th>\n",
       "      <th>Fee</th>\n",
       "      <th>State</th>\n",
       "      <th>VideoAmt</th>\n",
       "      <th>PhotoAmt</th>\n",
       "      <th>AdoptionSpeed</th>\n",
       "    </tr>\n",
       "  </thead>\n",
       "  <tbody>\n",
       "    <tr>\n",
       "      <td>count</td>\n",
       "      <td>14991.000000</td>\n",
       "      <td>14993.000000</td>\n",
       "      <td>14993.000000</td>\n",
       "      <td>14993.000000</td>\n",
       "      <td>14991.000000</td>\n",
       "      <td>14993.000000</td>\n",
       "      <td>14993.000000</td>\n",
       "      <td>14993.000000</td>\n",
       "      <td>14993.000000</td>\n",
       "      <td>14993.000000</td>\n",
       "      <td>14993.000000</td>\n",
       "      <td>14993.000000</td>\n",
       "      <td>14993.000000</td>\n",
       "      <td>14993.000000</td>\n",
       "      <td>14993.000000</td>\n",
       "      <td>14992.000000</td>\n",
       "      <td>14993.000000</td>\n",
       "      <td>14993.000000</td>\n",
       "      <td>14993.000000</td>\n",
       "      <td>14993.000000</td>\n",
       "    </tr>\n",
       "    <tr>\n",
       "      <td>mean</td>\n",
       "      <td>1.457608</td>\n",
       "      <td>10.452078</td>\n",
       "      <td>265.272594</td>\n",
       "      <td>74.009738</td>\n",
       "      <td>1.776132</td>\n",
       "      <td>2.234176</td>\n",
       "      <td>3.222837</td>\n",
       "      <td>1.882012</td>\n",
       "      <td>1.862002</td>\n",
       "      <td>1.467485</td>\n",
       "      <td>1.731208</td>\n",
       "      <td>1.558727</td>\n",
       "      <td>1.914227</td>\n",
       "      <td>1.036617</td>\n",
       "      <td>1.576069</td>\n",
       "      <td>21.259405</td>\n",
       "      <td>41346.028347</td>\n",
       "      <td>0.056760</td>\n",
       "      <td>3.889215</td>\n",
       "      <td>2.516441</td>\n",
       "    </tr>\n",
       "    <tr>\n",
       "      <td>std</td>\n",
       "      <td>0.498216</td>\n",
       "      <td>18.155790</td>\n",
       "      <td>60.056818</td>\n",
       "      <td>123.011575</td>\n",
       "      <td>0.681535</td>\n",
       "      <td>1.745225</td>\n",
       "      <td>2.742562</td>\n",
       "      <td>2.984086</td>\n",
       "      <td>0.547959</td>\n",
       "      <td>0.599070</td>\n",
       "      <td>0.667649</td>\n",
       "      <td>0.695817</td>\n",
       "      <td>0.566172</td>\n",
       "      <td>0.199535</td>\n",
       "      <td>1.472477</td>\n",
       "      <td>78.417131</td>\n",
       "      <td>32.444153</td>\n",
       "      <td>0.346185</td>\n",
       "      <td>3.487810</td>\n",
       "      <td>1.177265</td>\n",
       "    </tr>\n",
       "    <tr>\n",
       "      <td>min</td>\n",
       "      <td>1.000000</td>\n",
       "      <td>0.000000</td>\n",
       "      <td>0.000000</td>\n",
       "      <td>0.000000</td>\n",
       "      <td>1.000000</td>\n",
       "      <td>1.000000</td>\n",
       "      <td>0.000000</td>\n",
       "      <td>0.000000</td>\n",
       "      <td>1.000000</td>\n",
       "      <td>1.000000</td>\n",
       "      <td>1.000000</td>\n",
       "      <td>1.000000</td>\n",
       "      <td>1.000000</td>\n",
       "      <td>1.000000</td>\n",
       "      <td>1.000000</td>\n",
       "      <td>0.000000</td>\n",
       "      <td>41324.000000</td>\n",
       "      <td>0.000000</td>\n",
       "      <td>0.000000</td>\n",
       "      <td>0.000000</td>\n",
       "    </tr>\n",
       "    <tr>\n",
       "      <td>25%</td>\n",
       "      <td>1.000000</td>\n",
       "      <td>2.000000</td>\n",
       "      <td>265.000000</td>\n",
       "      <td>0.000000</td>\n",
       "      <td>1.000000</td>\n",
       "      <td>1.000000</td>\n",
       "      <td>0.000000</td>\n",
       "      <td>0.000000</td>\n",
       "      <td>2.000000</td>\n",
       "      <td>1.000000</td>\n",
       "      <td>1.000000</td>\n",
       "      <td>1.000000</td>\n",
       "      <td>2.000000</td>\n",
       "      <td>1.000000</td>\n",
       "      <td>1.000000</td>\n",
       "      <td>0.000000</td>\n",
       "      <td>41326.000000</td>\n",
       "      <td>0.000000</td>\n",
       "      <td>2.000000</td>\n",
       "      <td>2.000000</td>\n",
       "    </tr>\n",
       "    <tr>\n",
       "      <td>50%</td>\n",
       "      <td>1.000000</td>\n",
       "      <td>3.000000</td>\n",
       "      <td>266.000000</td>\n",
       "      <td>0.000000</td>\n",
       "      <td>2.000000</td>\n",
       "      <td>2.000000</td>\n",
       "      <td>2.000000</td>\n",
       "      <td>0.000000</td>\n",
       "      <td>2.000000</td>\n",
       "      <td>1.000000</td>\n",
       "      <td>2.000000</td>\n",
       "      <td>1.000000</td>\n",
       "      <td>2.000000</td>\n",
       "      <td>1.000000</td>\n",
       "      <td>1.000000</td>\n",
       "      <td>0.000000</td>\n",
       "      <td>41326.000000</td>\n",
       "      <td>0.000000</td>\n",
       "      <td>3.000000</td>\n",
       "      <td>2.000000</td>\n",
       "    </tr>\n",
       "    <tr>\n",
       "      <td>75%</td>\n",
       "      <td>2.000000</td>\n",
       "      <td>12.000000</td>\n",
       "      <td>307.000000</td>\n",
       "      <td>179.000000</td>\n",
       "      <td>2.000000</td>\n",
       "      <td>3.000000</td>\n",
       "      <td>6.000000</td>\n",
       "      <td>5.000000</td>\n",
       "      <td>2.000000</td>\n",
       "      <td>2.000000</td>\n",
       "      <td>2.000000</td>\n",
       "      <td>2.000000</td>\n",
       "      <td>2.000000</td>\n",
       "      <td>1.000000</td>\n",
       "      <td>1.000000</td>\n",
       "      <td>0.000000</td>\n",
       "      <td>41401.000000</td>\n",
       "      <td>0.000000</td>\n",
       "      <td>5.000000</td>\n",
       "      <td>4.000000</td>\n",
       "    </tr>\n",
       "    <tr>\n",
       "      <td>max</td>\n",
       "      <td>2.000000</td>\n",
       "      <td>255.000000</td>\n",
       "      <td>307.000000</td>\n",
       "      <td>307.000000</td>\n",
       "      <td>3.000000</td>\n",
       "      <td>7.000000</td>\n",
       "      <td>7.000000</td>\n",
       "      <td>7.000000</td>\n",
       "      <td>4.000000</td>\n",
       "      <td>3.000000</td>\n",
       "      <td>3.000000</td>\n",
       "      <td>3.000000</td>\n",
       "      <td>3.000000</td>\n",
       "      <td>3.000000</td>\n",
       "      <td>20.000000</td>\n",
       "      <td>3000.000000</td>\n",
       "      <td>41415.000000</td>\n",
       "      <td>8.000000</td>\n",
       "      <td>30.000000</td>\n",
       "      <td>4.000000</td>\n",
       "    </tr>\n",
       "  </tbody>\n",
       "</table>\n",
       "</div>"
      ],
      "text/plain": [
       "               Type           Age        Breed1        Breed2        Gender  \\\n",
       "count  14991.000000  14993.000000  14993.000000  14993.000000  14991.000000   \n",
       "mean       1.457608     10.452078    265.272594     74.009738      1.776132   \n",
       "std        0.498216     18.155790     60.056818    123.011575      0.681535   \n",
       "min        1.000000      0.000000      0.000000      0.000000      1.000000   \n",
       "25%        1.000000      2.000000    265.000000      0.000000      1.000000   \n",
       "50%        1.000000      3.000000    266.000000      0.000000      2.000000   \n",
       "75%        2.000000     12.000000    307.000000    179.000000      2.000000   \n",
       "max        2.000000    255.000000    307.000000    307.000000      3.000000   \n",
       "\n",
       "             Color1        Color2        Color3  MaturitySize     FurLength  \\\n",
       "count  14993.000000  14993.000000  14993.000000  14993.000000  14993.000000   \n",
       "mean       2.234176      3.222837      1.882012      1.862002      1.467485   \n",
       "std        1.745225      2.742562      2.984086      0.547959      0.599070   \n",
       "min        1.000000      0.000000      0.000000      1.000000      1.000000   \n",
       "25%        1.000000      0.000000      0.000000      2.000000      1.000000   \n",
       "50%        2.000000      2.000000      0.000000      2.000000      1.000000   \n",
       "75%        3.000000      6.000000      5.000000      2.000000      2.000000   \n",
       "max        7.000000      7.000000      7.000000      4.000000      3.000000   \n",
       "\n",
       "         Vaccinated      Dewormed    Sterilized        Health      Quantity  \\\n",
       "count  14993.000000  14993.000000  14993.000000  14993.000000  14993.000000   \n",
       "mean       1.731208      1.558727      1.914227      1.036617      1.576069   \n",
       "std        0.667649      0.695817      0.566172      0.199535      1.472477   \n",
       "min        1.000000      1.000000      1.000000      1.000000      1.000000   \n",
       "25%        1.000000      1.000000      2.000000      1.000000      1.000000   \n",
       "50%        2.000000      1.000000      2.000000      1.000000      1.000000   \n",
       "75%        2.000000      2.000000      2.000000      1.000000      1.000000   \n",
       "max        3.000000      3.000000      3.000000      3.000000     20.000000   \n",
       "\n",
       "                Fee         State      VideoAmt      PhotoAmt  AdoptionSpeed  \n",
       "count  14992.000000  14993.000000  14993.000000  14993.000000   14993.000000  \n",
       "mean      21.259405  41346.028347      0.056760      3.889215       2.516441  \n",
       "std       78.417131     32.444153      0.346185      3.487810       1.177265  \n",
       "min        0.000000  41324.000000      0.000000      0.000000       0.000000  \n",
       "25%        0.000000  41326.000000      0.000000      2.000000       2.000000  \n",
       "50%        0.000000  41326.000000      0.000000      3.000000       2.000000  \n",
       "75%        0.000000  41401.000000      0.000000      5.000000       4.000000  \n",
       "max     3000.000000  41415.000000      8.000000     30.000000       4.000000  "
      ]
     },
     "execution_count": 4,
     "metadata": {},
     "output_type": "execute_result"
    }
   ],
   "source": [
    "df.describe()"
   ]
  },
  {
   "cell_type": "markdown",
   "metadata": {},
   "source": [
    "To make headers consistent and help with regressions etc. , cleaning them up to all be lower case"
   ]
  },
  {
   "cell_type": "code",
   "execution_count": 5,
   "metadata": {},
   "outputs": [],
   "source": [
    "df.columns=[i.lower() for i in df.columns]"
   ]
  },
  {
   "cell_type": "markdown",
   "metadata": {},
   "source": [
    "Next, we found the amount of null values by column. Null values of a column could be a bad thing - if we find a null value for a column that we care about, we might have to throw out the entire row/datapoint. On the other hand, if the null value is for a variable that is not predictive, it might not matter. In some cases, it will be fine to fill in the data with key statistics such as the mean or mode. Either way, it's important to have a clean dataset."
   ]
  },
  {
   "cell_type": "code",
   "execution_count": 6,
   "metadata": {},
   "outputs": [
    {
     "data": {
      "text/plain": [
       "type                2\n",
       "name             1257\n",
       "age                 0\n",
       "breed1              0\n",
       "breed2              0\n",
       "gender              2\n",
       "color1              0\n",
       "color2              0\n",
       "color3              0\n",
       "maturitysize        0\n",
       "furlength           0\n",
       "vaccinated          0\n",
       "dewormed            0\n",
       "sterilized          0\n",
       "health              0\n",
       "quantity            0\n",
       "fee                 1\n",
       "state               0\n",
       "rescuerid           0\n",
       "videoamt            0\n",
       "description        12\n",
       "petid               0\n",
       "photoamt            0\n",
       "adoptionspeed       0\n",
       "dtype: int64"
      ]
     },
     "execution_count": 6,
     "metadata": {},
     "output_type": "execute_result"
    }
   ],
   "source": [
    "df.isna().sum()"
   ]
  },
  {
   "cell_type": "markdown",
   "metadata": {},
   "source": [
    "First, we dealt with \"type.\" This variable tells us if the pet is a dog or a cat. With missing type, we don't know if the data point is a dog or a cat, and therefor we dropped the entire row."
   ]
  },
  {
   "cell_type": "code",
   "execution_count": 7,
   "metadata": {},
   "outputs": [
    {
     "data": {
      "text/plain": [
       "type                0\n",
       "name             1257\n",
       "age                 0\n",
       "breed1              0\n",
       "breed2              0\n",
       "gender              2\n",
       "color1              0\n",
       "color2              0\n",
       "color3              0\n",
       "maturitysize        0\n",
       "furlength           0\n",
       "vaccinated          0\n",
       "dewormed            0\n",
       "sterilized          0\n",
       "health              0\n",
       "quantity            0\n",
       "fee                 1\n",
       "state               0\n",
       "rescuerid           0\n",
       "videoamt            0\n",
       "description        12\n",
       "petid               0\n",
       "photoamt            0\n",
       "adoptionspeed       0\n",
       "dtype: int64"
      ]
     },
     "execution_count": 7,
     "metadata": {},
     "output_type": "execute_result"
    }
   ],
   "source": [
    "df = df.dropna(subset=['type'])\n",
    "df.isna().sum()"
   ]
  },
  {
   "cell_type": "markdown",
   "metadata": {},
   "source": [
    "Next we dealt with the null value for \"fee.\" We looked at the distribution:"
   ]
  },
  {
   "cell_type": "code",
   "execution_count": 8,
   "metadata": {},
   "outputs": [
    {
     "data": {
      "text/plain": [
       "0.0      0.844573\n",
       "50.0     0.031219\n",
       "100.0    0.027216\n",
       "200.0    0.014609\n",
       "150.0    0.010806\n",
       "Name: fee, dtype: float64"
      ]
     },
     "execution_count": 8,
     "metadata": {},
     "output_type": "execute_result"
    }
   ],
   "source": [
    "df['fee'].value_counts().head(5)/len(df['fee'])"
   ]
  },
  {
   "cell_type": "markdown",
   "metadata": {},
   "source": [
    "Nearly 85% of the fee values are 0, so we decided to replace null values with the (overwhelmingly popular) mode."
   ]
  },
  {
   "cell_type": "code",
   "execution_count": 9,
   "metadata": {},
   "outputs": [
    {
     "data": {
      "text/plain": [
       "type                0\n",
       "name             1257\n",
       "age                 0\n",
       "breed1              0\n",
       "breed2              0\n",
       "gender              2\n",
       "color1              0\n",
       "color2              0\n",
       "color3              0\n",
       "maturitysize        0\n",
       "furlength           0\n",
       "vaccinated          0\n",
       "dewormed            0\n",
       "sterilized          0\n",
       "health              0\n",
       "quantity            0\n",
       "fee                 0\n",
       "state               0\n",
       "rescuerid           0\n",
       "videoamt            0\n",
       "description        12\n",
       "petid               0\n",
       "photoamt            0\n",
       "adoptionspeed       0\n",
       "dtype: int64"
      ]
     },
     "execution_count": 9,
     "metadata": {},
     "output_type": "execute_result"
    }
   ],
   "source": [
    "df['fee'].fillna(0,inplace=True)\n",
    "df.isna().sum()"
   ]
  },
  {
   "cell_type": "markdown",
   "metadata": {},
   "source": [
    "We decided to remove the variable \"name\" since it likely has no predictive power and the column has a lot of missing values."
   ]
  },
  {
   "cell_type": "code",
   "execution_count": 10,
   "metadata": {},
   "outputs": [
    {
     "data": {
      "text/plain": [
       "(14977, 23)"
      ]
     },
     "execution_count": 10,
     "metadata": {},
     "output_type": "execute_result"
    }
   ],
   "source": [
    "df = df.drop('name',axis=1).dropna()\n",
    "df.shape"
   ]
  },
  {
   "cell_type": "code",
   "execution_count": 11,
   "metadata": {},
   "outputs": [
    {
     "data": {
      "text/plain": [
       "type             0\n",
       "age              0\n",
       "breed1           0\n",
       "breed2           0\n",
       "gender           0\n",
       "color1           0\n",
       "color2           0\n",
       "color3           0\n",
       "maturitysize     0\n",
       "furlength        0\n",
       "vaccinated       0\n",
       "dewormed         0\n",
       "sterilized       0\n",
       "health           0\n",
       "quantity         0\n",
       "fee              0\n",
       "state            0\n",
       "rescuerid        0\n",
       "videoamt         0\n",
       "description      0\n",
       "petid            0\n",
       "photoamt         0\n",
       "adoptionspeed    0\n",
       "dtype: int64"
      ]
     },
     "execution_count": 11,
     "metadata": {},
     "output_type": "execute_result"
    }
   ],
   "source": [
    "df.isna().sum()"
   ]
  },
  {
   "cell_type": "markdown",
   "metadata": {},
   "source": [
    "According to the description, type 1 is a dog and type 2 is a cat. But, we want to see if we could figure that out on our own, by analyzing the description string."
   ]
  },
  {
   "cell_type": "code",
   "execution_count": 12,
   "metadata": {},
   "outputs": [
    {
     "data": {
      "text/plain": [
       "1.0    0.924496\n",
       "2.0    0.075504\n",
       "Name: type, dtype: float64"
      ]
     },
     "execution_count": 12,
     "metadata": {},
     "output_type": "execute_result"
    }
   ],
   "source": [
    "df_type_test=df.loc[df['description'].str.contains('dog'),:]\n",
    "df_type_test['type'].value_counts()/len(df_type_test)"
   ]
  },
  {
   "cell_type": "markdown",
   "metadata": {},
   "source": [
    "Over 92% of the description strings that include the string\"dog\" are type 1! Thus, we would also have concluded that type 1 is a dog.\n",
    "We found the percentage of the dataset that is dogs vs. cats, and began visualizing."
   ]
  },
  {
   "cell_type": "code",
   "execution_count": 13,
   "metadata": {},
   "outputs": [
    {
     "data": {
      "text/plain": [
       "1.0    0.542632\n",
       "2.0    0.457368\n",
       "Name: type, dtype: float64"
      ]
     },
     "execution_count": 13,
     "metadata": {},
     "output_type": "execute_result"
    }
   ],
   "source": [
    "df['type'].value_counts()/len(df['type'])"
   ]
  },
  {
   "cell_type": "code",
   "execution_count": 14,
   "metadata": {
    "scrolled": true
   },
   "outputs": [
    {
     "data": {
      "image/png": "[encoded data removed]",
      "text/plain": [
       "<Figure size 432x288 with 1 Axes>"
      ]
     },
     "metadata": {
      "needs_background": "light"
     },
     "output_type": "display_data"
    }
   ],
   "source": [
    "x=['Dogs','Cats']\n",
    "y=[.542632,.457368]\n",
    "plt.bar(x,y,color='g')\n",
    "plt.title('Dataset Statistics: Dogs vs Cats',fontsize=13,fontweight='bold')\n",
    "plt.xlabel('Type',fontsize=12)\n",
    "plt.ylabel('Percentage(%) of Total Pets',fontsize=12)\n",
    "plt.show()"
   ]
  },
  {
   "cell_type": "markdown",
   "metadata": {},
   "source": [
    "Next, Analyzing Adoption Speed as horizontal graph"
   ]
  },
  {
   "cell_type": "code",
   "execution_count": 15,
   "metadata": {},
   "outputs": [
    {
     "data": {
      "text/plain": [
       "Text(0, 0.5, 'Adoption Rate')"
      ]
     },
     "execution_count": 15,
     "metadata": {},
     "output_type": "execute_result"
    },
    {
     "data": {
      "image/png": "[encoded data removed]",
      "text/plain": [
       "<Figure size 576x432 with 1 Axes>"
      ]
     },
     "metadata": {
      "needs_background": "light"
     },
     "output_type": "display_data"
    }
   ],
   "source": [
    "df['adoptionspeed'].value_counts().rename(\n",
    "    {0:'Same Day',\n",
    "     1:'1-7 Days',\n",
    "     2:'8-30 Days',\n",
    "     3:'31-90 Days',\n",
    "     4:'No adoption after 100 Days'}).plot(kind='barh',figsize=(8,6))\n",
    "plt.title('Adoption Speed', fontsize=13,fontweight='bold')\n",
    "plt.xlabel('Count',fontsize=12)\n",
    "plt.ylabel('Adoption Rate',fontsize=12)"
   ]
  },
  {
   "cell_type": "code",
   "execution_count": 16,
   "metadata": {},
   "outputs": [
    {
     "data": {
      "text/plain": [
       "4    4193\n",
       "2    4031\n",
       "3    3255\n",
       "1    3088\n",
       "0     410\n",
       "Name: adoptionspeed, dtype: int64"
      ]
     },
     "execution_count": 16,
     "metadata": {},
     "output_type": "execute_result"
    }
   ],
   "source": [
    "df['adoptionspeed'].value_counts()"
   ]
  },
  {
   "cell_type": "code",
   "execution_count": 17,
   "metadata": {},
   "outputs": [
    {
     "data": {
      "text/plain": [
       "0.28"
      ]
     },
     "execution_count": 17,
     "metadata": {},
     "output_type": "execute_result"
    }
   ],
   "source": [
    "round(len(df.loc[df['adoptionspeed']==4])/len(df),2)"
   ]
  },
  {
   "cell_type": "markdown",
   "metadata": {},
   "source": [
    "Sadly, nearly 28% of all pets in our dataset were not adopted after 100 days.\n",
    "We wanted to find out, is the adoption speed better (with a corresponding smaller value) for dogs or cats?"
   ]
  },
  {
   "cell_type": "code",
   "execution_count": 18,
   "metadata": {},
   "outputs": [
    {
     "data": {
      "text/html": [
       "<div>\n",
       "<style scoped>\n",
       "    .dataframe tbody tr th:only-of-type {\n",
       "        vertical-align: middle;\n",
       "    }\n",
       "\n",
       "    .dataframe tbody tr th {\n",
       "        vertical-align: top;\n",
       "    }\n",
       "\n",
       "    .dataframe thead th {\n",
       "        text-align: right;\n",
       "    }\n",
       "</style>\n",
       "<table border=\"1\" class=\"dataframe\">\n",
       "  <thead>\n",
       "    <tr style=\"text-align: right;\">\n",
       "      <th></th>\n",
       "      <th>adoptionspeed</th>\n",
       "    </tr>\n",
       "    <tr>\n",
       "      <th>type</th>\n",
       "      <th></th>\n",
       "    </tr>\n",
       "  </thead>\n",
       "  <tbody>\n",
       "    <tr>\n",
       "      <td>1.0</td>\n",
       "      <td>2.615233</td>\n",
       "    </tr>\n",
       "    <tr>\n",
       "      <td>2.0</td>\n",
       "      <td>2.398978</td>\n",
       "    </tr>\n",
       "  </tbody>\n",
       "</table>\n",
       "</div>"
      ],
      "text/plain": [
       "      adoptionspeed\n",
       "type               \n",
       "1.0        2.615233\n",
       "2.0        2.398978"
      ]
     },
     "execution_count": 18,
     "metadata": {},
     "output_type": "execute_result"
    }
   ],
   "source": [
    "df.groupby(['type']).agg({'adoptionspeed':'mean'})"
   ]
  },
  {
   "cell_type": "markdown",
   "metadata": {},
   "source": [
    "This data shows us that cats are more likely to be adopted quicker than dogs.\n",
    "We found that 28% of all pets are not adopted after 100 days. We decided to filter on several characteristics to see if we could deduce some characteristics which help make pets more likely to be adopted. We filtered on pets who possess all of the following characteristics at the same time - are vaccinated, are dewormed, are sterilized, are either healthy or have only a minor injury, have no adoption fee, and age of less than 1 year."
   ]
  },
  {
   "cell_type": "code",
   "execution_count": 19,
   "metadata": {},
   "outputs": [
    {
     "data": {
      "text/plain": [
       "4    0.398974\n",
       "3    0.269744\n",
       "2    0.220513\n",
       "1    0.087179\n",
       "0    0.023590\n",
       "Name: adoptionspeed, dtype: float64"
      ]
     },
     "execution_count": 19,
     "metadata": {},
     "output_type": "execute_result"
    }
   ],
   "source": [
    "vaccinated_list=[1]\n",
    "dewormed_list=[1]\n",
    "sterilized_list=[1]\n",
    "health_list=[1,2]\n",
    "fee_list=[0]\n",
    "age_list=[1,2,3,4,5,6,7,8,9,10,11,12]\n",
    "\n",
    "df_filter_adj=df.loc[df['vaccinated'].isin(vaccinated_list)&df['dewormed'].isin(dewormed_list)&\n",
    "       df['sterilized'].isin(sterilized_list)&df['health'].isin(health_list)&\n",
    "       df['fee'].isin(fee_list)&df['age'].isin(age_list)]\n",
    "df_filter_adj['adoptionspeed'].value_counts()/len(df_filter_adj)"
   ]
  },
  {
   "cell_type": "code",
   "execution_count": 20,
   "metadata": {},
   "outputs": [
    {
     "data": {
      "image/png": "[encoded data removed]",
      "text/plain": [
       "<Figure size 432x432 with 1 Axes>"
      ]
     },
     "metadata": {},
     "output_type": "display_data"
    },
    {
     "data": {
      "text/plain": [
       "['No adoption after 100 Days',\n",
       " '31-90 Days',\n",
       " '8-30 Days',\n",
       " '1-7 Days',\n",
       " 'Same Day']"
      ]
     },
     "execution_count": 20,
     "metadata": {},
     "output_type": "execute_result"
    }
   ],
   "source": [
    "labels=['No adoption after 100 Days','31-90 Days','8-30 Days','1-7 Days','Same Day']\n",
    "sizes=df_filter_adj['adoptionspeed'].value_counts().values\n",
    "colors=['orange','lightblue','pink','gold','teal']\n",
    "explode=[0,0,0,0,0]\n",
    "plt.style.use('seaborn-pastel')\n",
    "plt.figure(figsize=(6,6))\n",
    "plt.pie(sizes,explode=explode,labels=labels,colors=colors,autopct= '%1.0f%%')\n",
    "plt.title('Adoption Rate Among Filtered Data',fontsize=15)\n",
    "plt.show()\n",
    "labels"
   ]
  },
  {
   "cell_type": "code",
   "execution_count": 21,
   "metadata": {},
   "outputs": [
    {
     "data": {
      "text/plain": [
       "Text(0, 0.5, 'Distribution')"
      ]
     },
     "execution_count": 21,
     "metadata": {},
     "output_type": "execute_result"
    },
    {
     "data": {
      "image/png": "[encoded data removed]",
      "text/plain": [
       "<Figure size 432x288 with 1 Axes>"
      ]
     },
     "metadata": {
      "needs_background": "light"
     },
     "output_type": "display_data"
    }
   ],
   "source": [
    "sns.distplot(df_filter_adj['adoptionspeed'],color = \"red\")\n",
    "plt.title('Adoption Speed Distribution Plot',fontsize=15)\n",
    "plt.xlabel('Adoption Speed',fontsize=12)\n",
    "plt.ylabel('Distribution',fontsize=12)"
   ]
  },
  {
   "cell_type": "markdown",
   "metadata": {},
   "source": [
    "Surprisingly, 40% of our sliced dataset were not adopted."
   ]
  },
  {
   "cell_type": "markdown",
   "metadata": {},
   "source": [
    "Plan Ahead: \n",
    "\n",
    "1) split data into two approx equal sized buckets based on outcomes. Bucket 1 -- No adoption after 31+ days  & Bucket 2 -- Adopted within 31 days \n",
    "\n",
    "2) predict which row each bucket lands in using two predictors.\n",
    "        \n",
    "        a) train test, split data test\n",
    "        b) run cross validation to tune the hyper paramters of a random forest model on the train dataset\n",
    "        c) once satisfied, run final model on test data set\n",
    "        \n",
    "3)  Add features/inputs to either model, repeat step 2\n",
    "\n",
    "4)  once satisfied with model to do prediction with two buckets, move to a new model that predicts all of the adoption times seperately by following steps 1 thorugh 3 but with all buckets seperate \n",
    "\n",
    "*between all steps do investigations on data, maybe create models for cats and dogs seperately, predictors working for specific type of pet / is a predicator better for a model-- re-run step 2 \n"
   ]
  },
  {
   "cell_type": "code",
   "execution_count": 22,
   "metadata": {
    "scrolled": true
   },
   "outputs": [
    {
     "data": {
      "text/plain": [
       "4    4193\n",
       "3    3255\n",
       "Name: adoptionspeed, dtype: int64"
      ]
     },
     "execution_count": 22,
     "metadata": {},
     "output_type": "execute_result"
    }
   ],
   "source": [
    "#split dataframes into -- Bucket 1) No adoption after 31+ days & Bucket 2) Adopted within 31 days\n",
    "\n",
    "#Adotption Speed Legend\n",
    "#0:'Same Day',\n",
    "#1:'1-7 Days',\n",
    "#2:'8-30 Days',\n",
    "#3:'31-90 Days',\n",
    "#4:'No adoption after 100 Days'\n",
    "\n",
    "df_adoption_before_31_days = df[df['adoptionspeed'] <= 2]\n",
    "df_adoption_after_31_days = df[df['adoptionspeed'] >= 3]\n",
    "\n",
    "#Checking if the split worked\n",
    "df_adoption_after_31_days['adoptionspeed'].value_counts()"
   ]
  },
  {
   "cell_type": "code",
   "execution_count": 23,
   "metadata": {},
   "outputs": [
    {
     "data": {
      "text/html": [
       "<div>\n",
       "<style scoped>\n",
       "    .dataframe tbody tr th:only-of-type {\n",
       "        vertical-align: middle;\n",
       "    }\n",
       "\n",
       "    .dataframe tbody tr th {\n",
       "        vertical-align: top;\n",
       "    }\n",
       "\n",
       "    .dataframe thead th {\n",
       "        text-align: right;\n",
       "    }\n",
       "</style>\n",
       "<table border=\"1\" class=\"dataframe\">\n",
       "  <thead>\n",
       "    <tr style=\"text-align: right;\">\n",
       "      <th></th>\n",
       "      <th>type</th>\n",
       "      <th>age</th>\n",
       "      <th>breed1</th>\n",
       "      <th>breed2</th>\n",
       "      <th>gender</th>\n",
       "      <th>color1</th>\n",
       "      <th>color2</th>\n",
       "      <th>color3</th>\n",
       "      <th>maturitysize</th>\n",
       "      <th>furlength</th>\n",
       "      <th>...</th>\n",
       "      <th>quantity</th>\n",
       "      <th>fee</th>\n",
       "      <th>state</th>\n",
       "      <th>rescuerid</th>\n",
       "      <th>videoamt</th>\n",
       "      <th>description</th>\n",
       "      <th>petid</th>\n",
       "      <th>photoamt</th>\n",
       "      <th>adoptionspeed</th>\n",
       "      <th>filter_adoptionspeed_2</th>\n",
       "    </tr>\n",
       "  </thead>\n",
       "  <tbody>\n",
       "    <tr>\n",
       "      <td>0</td>\n",
       "      <td>2.0</td>\n",
       "      <td>3</td>\n",
       "      <td>299</td>\n",
       "      <td>0</td>\n",
       "      <td>1.0</td>\n",
       "      <td>1</td>\n",
       "      <td>7</td>\n",
       "      <td>0</td>\n",
       "      <td>1</td>\n",
       "      <td>1</td>\n",
       "      <td>...</td>\n",
       "      <td>1</td>\n",
       "      <td>100.0</td>\n",
       "      <td>41326</td>\n",
       "      <td>8480853f516546f6cf33aa88cd76c379</td>\n",
       "      <td>0</td>\n",
       "      <td>Nibble is a 3+ month old ball of cuteness. He ...</td>\n",
       "      <td>86e1089a3</td>\n",
       "      <td>1</td>\n",
       "      <td>2</td>\n",
       "      <td>0</td>\n",
       "    </tr>\n",
       "    <tr>\n",
       "      <td>1</td>\n",
       "      <td>2.0</td>\n",
       "      <td>1</td>\n",
       "      <td>265</td>\n",
       "      <td>0</td>\n",
       "      <td>1.0</td>\n",
       "      <td>1</td>\n",
       "      <td>2</td>\n",
       "      <td>0</td>\n",
       "      <td>2</td>\n",
       "      <td>2</td>\n",
       "      <td>...</td>\n",
       "      <td>1</td>\n",
       "      <td>0.0</td>\n",
       "      <td>41401</td>\n",
       "      <td>3082c7125d8fb66f7dd4bff4192c8b14</td>\n",
       "      <td>0</td>\n",
       "      <td>I just found it alone yesterday near my apartm...</td>\n",
       "      <td>6296e909a</td>\n",
       "      <td>2</td>\n",
       "      <td>0</td>\n",
       "      <td>0</td>\n",
       "    </tr>\n",
       "    <tr>\n",
       "      <td>2</td>\n",
       "      <td>1.0</td>\n",
       "      <td>1</td>\n",
       "      <td>307</td>\n",
       "      <td>0</td>\n",
       "      <td>1.0</td>\n",
       "      <td>2</td>\n",
       "      <td>7</td>\n",
       "      <td>0</td>\n",
       "      <td>2</td>\n",
       "      <td>2</td>\n",
       "      <td>...</td>\n",
       "      <td>1</td>\n",
       "      <td>0.0</td>\n",
       "      <td>41326</td>\n",
       "      <td>fa90fa5b1ee11c86938398b60abc32cb</td>\n",
       "      <td>0</td>\n",
       "      <td>Their pregnant mother was dumped by her irresp...</td>\n",
       "      <td>3422e4906</td>\n",
       "      <td>7</td>\n",
       "      <td>3</td>\n",
       "      <td>1</td>\n",
       "    </tr>\n",
       "    <tr>\n",
       "      <td>3</td>\n",
       "      <td>1.0</td>\n",
       "      <td>4</td>\n",
       "      <td>307</td>\n",
       "      <td>0</td>\n",
       "      <td>2.0</td>\n",
       "      <td>1</td>\n",
       "      <td>2</td>\n",
       "      <td>0</td>\n",
       "      <td>2</td>\n",
       "      <td>1</td>\n",
       "      <td>...</td>\n",
       "      <td>1</td>\n",
       "      <td>150.0</td>\n",
       "      <td>41401</td>\n",
       "      <td>9238e4f44c71a75282e62f7136c6b240</td>\n",
       "      <td>0</td>\n",
       "      <td>Good guard dog, very alert, active, obedience ...</td>\n",
       "      <td>5842f1ff5</td>\n",
       "      <td>8</td>\n",
       "      <td>2</td>\n",
       "      <td>0</td>\n",
       "    </tr>\n",
       "    <tr>\n",
       "      <td>4</td>\n",
       "      <td>1.0</td>\n",
       "      <td>1</td>\n",
       "      <td>307</td>\n",
       "      <td>0</td>\n",
       "      <td>1.0</td>\n",
       "      <td>1</td>\n",
       "      <td>0</td>\n",
       "      <td>0</td>\n",
       "      <td>2</td>\n",
       "      <td>1</td>\n",
       "      <td>...</td>\n",
       "      <td>1</td>\n",
       "      <td>0.0</td>\n",
       "      <td>41326</td>\n",
       "      <td>95481e953f8aed9ec3d16fc4509537e8</td>\n",
       "      <td>0</td>\n",
       "      <td>This handsome yet cute boy is up for adoption....</td>\n",
       "      <td>850a43f90</td>\n",
       "      <td>3</td>\n",
       "      <td>2</td>\n",
       "      <td>0</td>\n",
       "    </tr>\n",
       "  </tbody>\n",
       "</table>\n",
       "<p>5 rows × 24 columns</p>\n",
       "</div>"
      ],
      "text/plain": [
       "   type  age  breed1  breed2  gender  color1  color2  color3  maturitysize  \\\n",
       "0   2.0    3     299       0     1.0       1       7       0             1   \n",
       "1   2.0    1     265       0     1.0       1       2       0             2   \n",
       "2   1.0    1     307       0     1.0       2       7       0             2   \n",
       "3   1.0    4     307       0     2.0       1       2       0             2   \n",
       "4   1.0    1     307       0     1.0       1       0       0             2   \n",
       "\n",
       "   furlength  ...  quantity    fee  state                         rescuerid  \\\n",
       "0          1  ...         1  100.0  41326  8480853f516546f6cf33aa88cd76c379   \n",
       "1          2  ...         1    0.0  41401  3082c7125d8fb66f7dd4bff4192c8b14   \n",
       "2          2  ...         1    0.0  41326  fa90fa5b1ee11c86938398b60abc32cb   \n",
       "3          1  ...         1  150.0  41401  9238e4f44c71a75282e62f7136c6b240   \n",
       "4          1  ...         1    0.0  41326  95481e953f8aed9ec3d16fc4509537e8   \n",
       "\n",
       "   videoamt                                        description      petid  \\\n",
       "0         0  Nibble is a 3+ month old ball of cuteness. He ...  86e1089a3   \n",
       "1         0  I just found it alone yesterday near my apartm...  6296e909a   \n",
       "2         0  Their pregnant mother was dumped by her irresp...  3422e4906   \n",
       "3         0  Good guard dog, very alert, active, obedience ...  5842f1ff5   \n",
       "4         0  This handsome yet cute boy is up for adoption....  850a43f90   \n",
       "\n",
       "  photoamt  adoptionspeed filter_adoptionspeed_2  \n",
       "0        1              2                      0  \n",
       "1        2              0                      0  \n",
       "2        7              3                      1  \n",
       "3        8              2                      0  \n",
       "4        3              2                      0  \n",
       "\n",
       "[5 rows x 24 columns]"
      ]
     },
     "execution_count": 23,
     "metadata": {},
     "output_type": "execute_result"
    }
   ],
   "source": [
    "# Adding another column with two buckets, where bucket 1 = adoption_before_31_days & bucket 2 = df_adoption_after_31_days\n",
    "\n",
    "#Adotption Speed Legend\n",
    "#0:'Same Day',\n",
    "#1:'1-7 Days',\n",
    "#2:'8-30 Days',\n",
    "#3:'31-90 Days',\n",
    "#4:'No adoption after 100 Days'\n",
    "\n",
    "# bucket 1 = adoption_before_31_days  --> value is 0\n",
    "# bucket 1 = adoption_after_31_days  --> value is 1\n",
    "    \n",
    "df['filter_adoptionspeed_2'] = np.where(df['adoptionspeed'] <= 2, '0', '1')\n",
    "df.head()"
   ]
  },
  {
   "cell_type": "code",
   "execution_count": 49,
   "metadata": {},
   "outputs": [
    {
     "name": "stdout",
     "output_type": "stream",
     "text": [
      "(14977, 15) (14977,)\n",
      "       gender_1.0  gender_2.0  gender_3.0  vaccinated_1  vaccinated_2  \\\n",
      "0               1           0           0             0             1   \n",
      "1               1           0           0             0             0   \n",
      "2               1           0           0             1             0   \n",
      "3               0           1           0             1             0   \n",
      "4               1           0           0             0             1   \n",
      "...           ...         ...         ...           ...           ...   \n",
      "14985           1           0           0             0             0   \n",
      "14987           0           1           0             1             0   \n",
      "14988           0           0           1             0             1   \n",
      "14989           0           0           1             1             0   \n",
      "14991           0           1           0             1             0   \n",
      "\n",
      "       vaccinated_3  dewormed_1  dewormed_2  dewormed_3  sterilized_1  \\\n",
      "0                 0           0           1           0             0   \n",
      "1                 1           0           0           1             0   \n",
      "2                 0           1           0           0             0   \n",
      "3                 0           1           0           0             0   \n",
      "4                 0           0           1           0             0   \n",
      "...             ...         ...         ...         ...           ...   \n",
      "14985             1           0           0           1             0   \n",
      "14987             0           1           0           0             0   \n",
      "14988             0           0           1           0             0   \n",
      "14989             0           1           0           0             1   \n",
      "14991             0           1           0           0             1   \n",
      "\n",
      "       sterilized_2  sterilized_3  health_1  health_2  health_3  \n",
      "0                 1             0         1         0         0  \n",
      "1                 0             1         1         0         0  \n",
      "2                 1             0         1         0         0  \n",
      "3                 1             0         1         0         0  \n",
      "4                 1             0         1         0         0  \n",
      "...             ...           ...       ...       ...       ...  \n",
      "14985             1             0         1         0         0  \n",
      "14987             1             0         1         0         0  \n",
      "14988             1             0         1         0         0  \n",
      "14989             0             0         1         0         0  \n",
      "14991             0             0         1         0         0  \n",
      "\n",
      "[14977 rows x 15 columns]\n"
     ]
    }
   ],
   "source": [
    "subset_of_columns = df[[\"gender\",\"vaccinated\",\"dewormed\",\"sterilized\",\"health\"]]\n",
    "X = pd.get_dummies(subset_of_columns,columns=[\"gender\",\"vaccinated\",\"dewormed\",\"sterilized\",\"health\"])\n",
    "y = df[\"filter_adoptionspeed_2\"]\n",
    "print(X.shape, y.shape)\n",
    "print(X)"
   ]
  },
  {
   "cell_type": "code",
   "execution_count": 50,
   "metadata": {},
   "outputs": [
    {
     "data": {
      "text/plain": [
       "gender_1.0      11232\n",
       "gender_2.0      11232\n",
       "gender_3.0      11232\n",
       "vaccinated_1    11232\n",
       "vaccinated_2    11232\n",
       "vaccinated_3    11232\n",
       "dewormed_1      11232\n",
       "dewormed_2      11232\n",
       "dewormed_3      11232\n",
       "sterilized_1    11232\n",
       "sterilized_2    11232\n",
       "sterilized_3    11232\n",
       "health_1        11232\n",
       "health_2        11232\n",
       "health_3        11232\n",
       "dtype: int64"
      ]
     },
     "execution_count": 50,
     "metadata": {},
     "output_type": "execute_result"
    }
   ],
   "source": [
    "X_train, X_test, y_train, y_test = train_test_split(\n",
    "    X, y, random_state=1, stratify=y)\n",
    "X_train.count()"
   ]
  },
  {
   "cell_type": "code",
   "execution_count": 51,
   "metadata": {},
   "outputs": [
    {
     "data": {
      "text/plain": [
       "gender_1.0      3745\n",
       "gender_2.0      3745\n",
       "gender_3.0      3745\n",
       "vaccinated_1    3745\n",
       "vaccinated_2    3745\n",
       "vaccinated_3    3745\n",
       "dewormed_1      3745\n",
       "dewormed_2      3745\n",
       "dewormed_3      3745\n",
       "sterilized_1    3745\n",
       "sterilized_2    3745\n",
       "sterilized_3    3745\n",
       "health_1        3745\n",
       "health_2        3745\n",
       "health_3        3745\n",
       "dtype: int64"
      ]
     },
     "execution_count": 51,
     "metadata": {},
     "output_type": "execute_result"
    }
   ],
   "source": [
    "X_test.count()"
   ]
  },
  {
   "cell_type": "code",
   "execution_count": 52,
   "metadata": {
    "scrolled": true
   },
   "outputs": [
    {
     "name": "stderr",
     "output_type": "stream",
     "text": [
      "/opt/anaconda3/lib/python3.7/site-packages/sklearn/linear_model/logistic.py:432: FutureWarning: Default solver will be changed to 'lbfgs' in 0.22. Specify a solver to silence this warning.\n",
      "  FutureWarning)\n"
     ]
    },
    {
     "data": {
      "text/plain": [
       "LogisticRegression(C=1.0, class_weight=None, dual=False, fit_intercept=True,\n",
       "                   intercept_scaling=1, l1_ratio=None, max_iter=100,\n",
       "                   multi_class='warn', n_jobs=None, penalty='l2',\n",
       "                   random_state=None, solver='warn', tol=0.0001, verbose=0,\n",
       "                   warm_start=False)"
      ]
     },
     "execution_count": 52,
     "metadata": {},
     "output_type": "execute_result"
    }
   ],
   "source": [
    "from sklearn.linear_model import LogisticRegression\n",
    "logisticRegression = LogisticRegression()\n",
    "logisticRegression.fit(X = X_train,y=y_train)"
   ]
  },
  {
   "cell_type": "code",
   "execution_count": 53,
   "metadata": {},
   "outputs": [
    {
     "name": "stdout",
     "output_type": "stream",
     "text": [
      "['0' '0' '0' ... '0' '1' '0']\n"
     ]
    }
   ],
   "source": [
    "# Predict!\n",
    "y_predicted = logisticRegression.predict(X_test)\n",
    "print(y_predicted)"
   ]
  },
  {
   "cell_type": "code",
   "execution_count": 54,
   "metadata": {},
   "outputs": [
    {
     "data": {
      "text/plain": [
       "0.5823765020026702"
      ]
     },
     "execution_count": 54,
     "metadata": {},
     "output_type": "execute_result"
    }
   ],
   "source": [
    "logisticRegression.score(X_test,y_test)"
   ]
  }
 ],
 "metadata": {
  "kernelspec": {
   "display_name": "Python 3",
   "language": "python",
   "name": "python3"
  },
  "language_info": {
   "codemirror_mode": {
    "name": "ipython",
    "version": 3
   },
   "file_extension": ".py",
   "mimetype": "text/x-python",
   "name": "python",
   "nbconvert_exporter": "python",
   "pygments_lexer": "ipython3",
   "version": "3.7.4"
  }
 },
 "nbformat": 4,
 "nbformat_minor": 2
}
